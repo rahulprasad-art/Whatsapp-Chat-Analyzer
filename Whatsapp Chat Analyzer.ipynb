{
 "cells": [
  {
   "cell_type": "code",
   "execution_count": 111,
   "metadata": {},
   "outputs": [],
   "source": [
    "import re\n",
    "import pandas as pd\n",
    "import matplotlib.pyplot as plt\n",
    "\n",
    "\n",
    "def startsWithDateAndTime(s):\n",
    "    # regex pattern for date.(Works only for android. IOS Whatsapp export format is different. Will update the code soon\n",
    "    pattern = '^([0-9]+)(\\/)([0-9]+)(\\/)([0-9][0-9]), ([0-9]+):([0-9][0-9]) (AM|PM) -'\n",
    "    result = re.match(pattern, s)\n",
    "    if result:\n",
    "        return True\n",
    "    return False\n",
    "  \n",
    "# Finds username of any given format.\n",
    "def FindAuthor(s):\n",
    "    patterns = [\n",
    "        '([\\w]+):',                        # First Name\n",
    "        '([\\w]+[\\s]+[\\w]+):',              # First Name + Last Name\n",
    "        '([\\w]+[\\s]+[\\w]+[\\s]+[\\w]+):',    # First Name + Middle Name + Last Name\n",
    "        '([+]\\d{2} \\d{5} \\d{5}):',         # Mobile Number (India)\n",
    "        '([+]\\d{2} \\d{3} \\d{3} \\d{4}):',   # Mobile Number (US)\n",
    "        '([\\w]+)[\\u263a-\\U0001f999]+:',    # Name and Emoji              \n",
    "    ]\n",
    "    pattern = '^' + '|'.join(patterns)\n",
    "    result = re.match(pattern, s)\n",
    "    if result:\n",
    "        return True\n",
    "    return False\n",
    "  \n",
    "def getDataPoint(line):   \n",
    "    splitLine = line.split(' - ') \n",
    "    dateTime = splitLine[0]\n",
    "    date, time = dateTime.split(', ') \n",
    "    message = ' '.join(splitLine[1:])\n",
    "    if FindAuthor(message): \n",
    "        splitMessage = message.split(': ') \n",
    "        author = splitMessage[0] \n",
    "        message = ' '.join(splitMessage[1:])\n",
    "    else:\n",
    "        author = None\n",
    "    return date, time, author, message\n",
    "\n",
    "parsedData = [] # List to keep track of data so it can be used by a Pandas dataframe\n",
    "# Upload your file here\n",
    "conversationPath = r'C:\\Users\\rahul\\Downloads\\chat.txt' # chat file\n",
    "with open(conversationPath, encoding=\"utf-8\") as fp:\n",
    "    fp.readline() # Skipping first line of the file because contains information related to something about end-to-end encryption\n",
    "    messageBuffer = [] \n",
    "    date, time, author = None, None, None\n",
    "    while True:\n",
    "        line = fp.readline() \n",
    "        if not line: \n",
    "            break\n",
    "        line = line.strip() \n",
    "        if startsWithDateAndTime(line): \n",
    "            if len(messageBuffer) > 0: \n",
    "                parsedData.append([date, time, author, ' '.join(messageBuffer)]) \n",
    "            messageBuffer.clear() \n",
    "            date, time, author, message = getDataPoint(line) \n",
    "            messageBuffer.append(message) \n",
    "        else:\n",
    "            messageBuffer.append(line)\n",
    "   \n",
    "df = pd.DataFrame(parsedData, columns=['Date', 'Time', 'Author', 'Message']) # Initialising a pandas Dataframe.\n",
    "df[\"Date\"] = pd.to_datetime(df[\"Date\"])"
   ]
  },
  {
   "cell_type": "code",
   "execution_count": 112,
   "metadata": {},
   "outputs": [
    {
     "data": {
      "text/html": [
       "<div>\n",
       "<style scoped>\n",
       "    .dataframe tbody tr th:only-of-type {\n",
       "        vertical-align: middle;\n",
       "    }\n",
       "\n",
       "    .dataframe tbody tr th {\n",
       "        vertical-align: top;\n",
       "    }\n",
       "\n",
       "    .dataframe thead th {\n",
       "        text-align: right;\n",
       "    }\n",
       "</style>\n",
       "<table border=\"1\" class=\"dataframe\">\n",
       "  <thead>\n",
       "    <tr style=\"text-align: right;\">\n",
       "      <th></th>\n",
       "      <th>Date</th>\n",
       "      <th>Time</th>\n",
       "      <th>Author</th>\n",
       "      <th>Message</th>\n",
       "    </tr>\n",
       "  </thead>\n",
       "  <tbody>\n",
       "    <tr>\n",
       "      <th>0</th>\n",
       "      <td>2016-10-12</td>\n",
       "      <td>2:46 PM</td>\n",
       "      <td>None</td>\n",
       "      <td>+91 96565 74326 created group \"👑Swargarajyam👑\"</td>\n",
       "    </tr>\n",
       "    <tr>\n",
       "      <th>1</th>\n",
       "      <td>2019-08-08</td>\n",
       "      <td>7:22 PM</td>\n",
       "      <td>None</td>\n",
       "      <td>Mani added you</td>\n",
       "    </tr>\n",
       "    <tr>\n",
       "      <th>2</th>\n",
       "      <td>2019-08-08</td>\n",
       "      <td>7:22 PM</td>\n",
       "      <td>Mani</td>\n",
       "      <td>Enta kanikane</td>\n",
       "    </tr>\n",
       "    <tr>\n",
       "      <th>3</th>\n",
       "      <td>2019-08-08</td>\n",
       "      <td>7:22 PM</td>\n",
       "      <td>Mani</td>\n",
       "      <td>Wait</td>\n",
       "    </tr>\n",
       "    <tr>\n",
       "      <th>4</th>\n",
       "      <td>2019-08-08</td>\n",
       "      <td>7:22 PM</td>\n",
       "      <td>Mani</td>\n",
       "      <td>Insta va</td>\n",
       "    </tr>\n",
       "  </tbody>\n",
       "</table>\n",
       "</div>"
      ],
      "text/plain": [
       "        Date     Time Author                                         Message\n",
       "0 2016-10-12  2:46 PM   None  +91 96565 74326 created group \"👑Swargarajyam👑\"\n",
       "1 2019-08-08  7:22 PM   None                                  Mani added you\n",
       "2 2019-08-08  7:22 PM   Mani                                   Enta kanikane\n",
       "3 2019-08-08  7:22 PM   Mani                                            Wait\n",
       "4 2019-08-08  7:22 PM   Mani                                        Insta va"
      ]
     },
     "execution_count": 112,
     "metadata": {},
     "output_type": "execute_result"
    }
   ],
   "source": [
    "df.head()"
   ]
  },
  {
   "cell_type": "code",
   "execution_count": 113,
   "metadata": {},
   "outputs": [
    {
     "data": {
      "text/html": [
       "<div>\n",
       "<style scoped>\n",
       "    .dataframe tbody tr th:only-of-type {\n",
       "        vertical-align: middle;\n",
       "    }\n",
       "\n",
       "    .dataframe tbody tr th {\n",
       "        vertical-align: top;\n",
       "    }\n",
       "\n",
       "    .dataframe thead th {\n",
       "        text-align: right;\n",
       "    }\n",
       "</style>\n",
       "<table border=\"1\" class=\"dataframe\">\n",
       "  <thead>\n",
       "    <tr style=\"text-align: right;\">\n",
       "      <th></th>\n",
       "      <th>Date</th>\n",
       "      <th>Time</th>\n",
       "      <th>Author</th>\n",
       "      <th>Message</th>\n",
       "    </tr>\n",
       "  </thead>\n",
       "  <tbody>\n",
       "    <tr>\n",
       "      <th>count</th>\n",
       "      <td>20256</td>\n",
       "      <td>20256</td>\n",
       "      <td>19961</td>\n",
       "      <td>20256</td>\n",
       "    </tr>\n",
       "    <tr>\n",
       "      <th>unique</th>\n",
       "      <td>295</td>\n",
       "      <td>1169</td>\n",
       "      <td>11</td>\n",
       "      <td>14100</td>\n",
       "    </tr>\n",
       "    <tr>\n",
       "      <th>top</th>\n",
       "      <td>2020-09-22 00:00:00</td>\n",
       "      <td>10:31 PM</td>\n",
       "      <td>Mani</td>\n",
       "      <td>&lt;Media omitted&gt;</td>\n",
       "    </tr>\n",
       "    <tr>\n",
       "      <th>freq</th>\n",
       "      <td>1119</td>\n",
       "      <td>98</td>\n",
       "      <td>5620</td>\n",
       "      <td>3062</td>\n",
       "    </tr>\n",
       "    <tr>\n",
       "      <th>first</th>\n",
       "      <td>2016-10-12 00:00:00</td>\n",
       "      <td>NaN</td>\n",
       "      <td>NaN</td>\n",
       "      <td>NaN</td>\n",
       "    </tr>\n",
       "    <tr>\n",
       "      <th>last</th>\n",
       "      <td>2020-10-22 00:00:00</td>\n",
       "      <td>NaN</td>\n",
       "      <td>NaN</td>\n",
       "      <td>NaN</td>\n",
       "    </tr>\n",
       "  </tbody>\n",
       "</table>\n",
       "</div>"
      ],
      "text/plain": [
       "                       Date      Time Author          Message\n",
       "count                 20256     20256  19961            20256\n",
       "unique                  295      1169     11            14100\n",
       "top     2020-09-22 00:00:00  10:31 PM   Mani  <Media omitted>\n",
       "freq                   1119        98   5620             3062\n",
       "first   2016-10-12 00:00:00       NaN    NaN              NaN\n",
       "last    2020-10-22 00:00:00       NaN    NaN              NaN"
      ]
     },
     "execution_count": 113,
     "metadata": {},
     "output_type": "execute_result"
    }
   ],
   "source": [
    "df.describe()"
   ]
  },
  {
   "cell_type": "code",
   "execution_count": 114,
   "metadata": {},
   "outputs": [
    {
     "data": {
      "text/plain": [
       "<matplotlib.axes._subplots.AxesSubplot at 0x259cf09a190>"
      ]
     },
     "execution_count": 114,
     "metadata": {},
     "output_type": "execute_result"
    },
    {
     "data": {
      "image/png": "[encoded data removed]",
      "text/plain": [
       "<Figure size 432x288 with 1 Axes>"
      ]
     },
     "metadata": {
      "needs_background": "light"
     },
     "output_type": "display_data"
    }
   ],
   "source": [
    "author_value_counts = df['Author'].value_counts() # Number of messages per author\n",
    "top_10_author_value_counts = author_value_counts.head(10) # Number of messages per author for the top 10 most active authors\n",
    "top_10_author_value_counts.plot.barh() "
   ]
  },
  {
   "cell_type": "code",
   "execution_count": 115,
   "metadata": {},
   "outputs": [
    {
     "data": {
      "text/html": [
       "<div>\n",
       "<style scoped>\n",
       "    .dataframe tbody tr th:only-of-type {\n",
       "        vertical-align: middle;\n",
       "    }\n",
       "\n",
       "    .dataframe tbody tr th {\n",
       "        vertical-align: top;\n",
       "    }\n",
       "\n",
       "    .dataframe thead th {\n",
       "        text-align: right;\n",
       "    }\n",
       "</style>\n",
       "<table border=\"1\" class=\"dataframe\">\n",
       "  <thead>\n",
       "    <tr style=\"text-align: right;\">\n",
       "      <th></th>\n",
       "      <th>Date</th>\n",
       "      <th>Time</th>\n",
       "      <th>Author</th>\n",
       "      <th>Message</th>\n",
       "    </tr>\n",
       "  </thead>\n",
       "  <tbody>\n",
       "    <tr>\n",
       "      <th>0</th>\n",
       "      <td>2016-10-12</td>\n",
       "      <td>2:46 PM</td>\n",
       "      <td>None</td>\n",
       "      <td>+91 96565 74326 created group \"👑Swargarajyam👑\"</td>\n",
       "    </tr>\n",
       "    <tr>\n",
       "      <th>1</th>\n",
       "      <td>2019-08-08</td>\n",
       "      <td>7:22 PM</td>\n",
       "      <td>None</td>\n",
       "      <td>Mani added you</td>\n",
       "    </tr>\n",
       "    <tr>\n",
       "      <th>231</th>\n",
       "      <td>2019-08-17</td>\n",
       "      <td>9:41 PM</td>\n",
       "      <td>None</td>\n",
       "      <td>Pranav ( Bengali? ): Hm</td>\n",
       "    </tr>\n",
       "    <tr>\n",
       "      <th>301</th>\n",
       "      <td>2019-08-18</td>\n",
       "      <td>8:32 AM</td>\n",
       "      <td>None</td>\n",
       "      <td>Pranav ( Bengali? ): Edaa ambani best business...</td>\n",
       "    </tr>\n",
       "    <tr>\n",
       "      <th>302</th>\n",
       "      <td>2019-08-18</td>\n",
       "      <td>8:32 AM</td>\n",
       "      <td>None</td>\n",
       "      <td>Pranav ( Bengali? ): Just think about this. An...</td>\n",
       "    </tr>\n",
       "  </tbody>\n",
       "</table>\n",
       "</div>"
      ],
      "text/plain": [
       "          Date     Time Author  \\\n",
       "0   2016-10-12  2:46 PM   None   \n",
       "1   2019-08-08  7:22 PM   None   \n",
       "231 2019-08-17  9:41 PM   None   \n",
       "301 2019-08-18  8:32 AM   None   \n",
       "302 2019-08-18  8:32 AM   None   \n",
       "\n",
       "                                               Message  \n",
       "0       +91 96565 74326 created group \"👑Swargarajyam👑\"  \n",
       "1                                       Mani added you  \n",
       "231                            Pranav ( Bengali? ): Hm  \n",
       "301  Pranav ( Bengali? ): Edaa ambani best business...  \n",
       "302  Pranav ( Bengali? ): Just think about this. An...  "
      ]
     },
     "execution_count": 115,
     "metadata": {},
     "output_type": "execute_result"
    }
   ],
   "source": [
    "null_authors_df = df[df['Author'].isnull()]\n",
    "null_authors_df.head()"
   ]
  },
  {
   "cell_type": "markdown",
   "metadata": {},
   "source": [
    "# Media sent by each author"
   ]
  },
  {
   "cell_type": "code",
   "execution_count": 116,
   "metadata": {},
   "outputs": [
    {
     "name": "stdout",
     "output_type": "stream",
     "text": [
      "         Date     Time    Author          Message\n",
      "8  2019-08-09  5:46 PM  Akhilesh  <Media omitted>\n",
      "27 2019-08-09  8:11 PM  Akhilesh  <Media omitted>\n",
      "28 2019-08-09  8:13 PM  Akhilesh  <Media omitted>\n",
      "57 2019-08-10  7:46 AM  Akhilesh  <Media omitted>\n",
      "61 2019-08-10  8:07 AM  Akhilesh  <Media omitted>\n"
     ]
    },
    {
     "data": {
      "text/plain": [
       "<matplotlib.axes._subplots.AxesSubplot at 0x259d04e2970>"
      ]
     },
     "execution_count": 116,
     "metadata": {},
     "output_type": "execute_result"
    },
    {
     "data": {
      "image/png": "[encoded data removed]",
      "text/plain": [
       "<Figure size 432x288 with 1 Axes>"
      ]
     },
     "metadata": {
      "needs_background": "light"
     },
     "output_type": "display_data"
    }
   ],
   "source": [
    "media_messages_df = df[df['Message'] == '<Media omitted>']\n",
    "print(media_messages_df.head())\n",
    "\n",
    "author_media_messages_value_counts = media_messages_df['Author'].value_counts()\n",
    "top_10_author_media_messages_value_counts = author_media_messages_value_counts.head(10)\n",
    "top_10_author_media_messages_value_counts.plot.barh()"
   ]
  },
  {
   "cell_type": "code",
   "execution_count": 117,
   "metadata": {},
   "outputs": [
    {
     "data": {
      "text/html": [
       "<div>\n",
       "<style scoped>\n",
       "    .dataframe tbody tr th:only-of-type {\n",
       "        vertical-align: middle;\n",
       "    }\n",
       "\n",
       "    .dataframe tbody tr th {\n",
       "        vertical-align: top;\n",
       "    }\n",
       "\n",
       "    .dataframe thead th {\n",
       "        text-align: right;\n",
       "    }\n",
       "</style>\n",
       "<table border=\"1\" class=\"dataframe\">\n",
       "  <thead>\n",
       "    <tr style=\"text-align: right;\">\n",
       "      <th></th>\n",
       "      <th>Date</th>\n",
       "      <th>Time</th>\n",
       "      <th>Author</th>\n",
       "      <th>Message</th>\n",
       "    </tr>\n",
       "  </thead>\n",
       "  <tbody>\n",
       "    <tr>\n",
       "      <th>2</th>\n",
       "      <td>2019-08-08</td>\n",
       "      <td>7:22 PM</td>\n",
       "      <td>Mani</td>\n",
       "      <td>Enta kanikane</td>\n",
       "    </tr>\n",
       "    <tr>\n",
       "      <th>3</th>\n",
       "      <td>2019-08-08</td>\n",
       "      <td>7:22 PM</td>\n",
       "      <td>Mani</td>\n",
       "      <td>Wait</td>\n",
       "    </tr>\n",
       "    <tr>\n",
       "      <th>4</th>\n",
       "      <td>2019-08-08</td>\n",
       "      <td>7:22 PM</td>\n",
       "      <td>Mani</td>\n",
       "      <td>Insta va</td>\n",
       "    </tr>\n",
       "    <tr>\n",
       "      <th>5</th>\n",
       "      <td>2019-08-08</td>\n",
       "      <td>7:22 PM</td>\n",
       "      <td>Mani</td>\n",
       "      <td>Vere phone ind</td>\n",
       "    </tr>\n",
       "    <tr>\n",
       "      <th>6</th>\n",
       "      <td>2019-08-08</td>\n",
       "      <td>7:22 PM</td>\n",
       "      <td>Mani</td>\n",
       "      <td>Atil insta inf</td>\n",
       "    </tr>\n",
       "  </tbody>\n",
       "</table>\n",
       "</div>"
      ],
      "text/plain": [
       "        Date     Time Author         Message\n",
       "2 2019-08-08  7:22 PM   Mani   Enta kanikane\n",
       "3 2019-08-08  7:22 PM   Mani            Wait\n",
       "4 2019-08-08  7:22 PM   Mani        Insta va\n",
       "5 2019-08-08  7:22 PM   Mani  Vere phone ind\n",
       "6 2019-08-08  7:22 PM   Mani  Atil insta inf"
      ]
     },
     "execution_count": 117,
     "metadata": {},
     "output_type": "execute_result"
    }
   ],
   "source": [
    "messages_df = df.drop(null_authors_df.index) \n",
    "messages_df = messages_df.drop(media_messages_df.index)\n",
    "messages_df.head()"
   ]
  },
  {
   "cell_type": "code",
   "execution_count": 118,
   "metadata": {},
   "outputs": [
    {
     "data": {
      "text/html": [
       "<div>\n",
       "<style scoped>\n",
       "    .dataframe tbody tr th:only-of-type {\n",
       "        vertical-align: middle;\n",
       "    }\n",
       "\n",
       "    .dataframe tbody tr th {\n",
       "        vertical-align: top;\n",
       "    }\n",
       "\n",
       "    .dataframe thead th {\n",
       "        text-align: right;\n",
       "    }\n",
       "</style>\n",
       "<table border=\"1\" class=\"dataframe\">\n",
       "  <thead>\n",
       "    <tr style=\"text-align: right;\">\n",
       "      <th></th>\n",
       "      <th>Date</th>\n",
       "      <th>Time</th>\n",
       "      <th>Author</th>\n",
       "      <th>Message</th>\n",
       "      <th>Letter_Count</th>\n",
       "      <th>Word_Count</th>\n",
       "    </tr>\n",
       "  </thead>\n",
       "  <tbody>\n",
       "    <tr>\n",
       "      <th>2</th>\n",
       "      <td>2019-08-08</td>\n",
       "      <td>7:22 PM</td>\n",
       "      <td>Mani</td>\n",
       "      <td>Enta kanikane</td>\n",
       "      <td>13</td>\n",
       "      <td>&lt;bound method NDFrame.describe of 2        2\\n...</td>\n",
       "    </tr>\n",
       "    <tr>\n",
       "      <th>3</th>\n",
       "      <td>2019-08-08</td>\n",
       "      <td>7:22 PM</td>\n",
       "      <td>Mani</td>\n",
       "      <td>Wait</td>\n",
       "      <td>4</td>\n",
       "      <td>&lt;bound method NDFrame.describe of 2        2\\n...</td>\n",
       "    </tr>\n",
       "    <tr>\n",
       "      <th>4</th>\n",
       "      <td>2019-08-08</td>\n",
       "      <td>7:22 PM</td>\n",
       "      <td>Mani</td>\n",
       "      <td>Insta va</td>\n",
       "      <td>8</td>\n",
       "      <td>&lt;bound method NDFrame.describe of 2        2\\n...</td>\n",
       "    </tr>\n",
       "    <tr>\n",
       "      <th>5</th>\n",
       "      <td>2019-08-08</td>\n",
       "      <td>7:22 PM</td>\n",
       "      <td>Mani</td>\n",
       "      <td>Vere phone ind</td>\n",
       "      <td>14</td>\n",
       "      <td>&lt;bound method NDFrame.describe of 2        2\\n...</td>\n",
       "    </tr>\n",
       "    <tr>\n",
       "      <th>6</th>\n",
       "      <td>2019-08-08</td>\n",
       "      <td>7:22 PM</td>\n",
       "      <td>Mani</td>\n",
       "      <td>Atil insta inf</td>\n",
       "      <td>14</td>\n",
       "      <td>&lt;bound method NDFrame.describe of 2        2\\n...</td>\n",
       "    </tr>\n",
       "  </tbody>\n",
       "</table>\n",
       "</div>"
      ],
      "text/plain": [
       "        Date     Time Author         Message  Letter_Count  \\\n",
       "2 2019-08-08  7:22 PM   Mani   Enta kanikane            13   \n",
       "3 2019-08-08  7:22 PM   Mani            Wait             4   \n",
       "4 2019-08-08  7:22 PM   Mani        Insta va             8   \n",
       "5 2019-08-08  7:22 PM   Mani  Vere phone ind            14   \n",
       "6 2019-08-08  7:22 PM   Mani  Atil insta inf            14   \n",
       "\n",
       "                                          Word_Count  \n",
       "2  <bound method NDFrame.describe of 2        2\\n...  \n",
       "3  <bound method NDFrame.describe of 2        2\\n...  \n",
       "4  <bound method NDFrame.describe of 2        2\\n...  \n",
       "5  <bound method NDFrame.describe of 2        2\\n...  \n",
       "6  <bound method NDFrame.describe of 2        2\\n...  "
      ]
     },
     "execution_count": 118,
     "metadata": {},
     "output_type": "execute_result"
    }
   ],
   "source": [
    "messages_df['Letter_Count'] = messages_df['Message'].apply(lambda s : len(s))\n",
    "messages_df['Word_Count'] = messages_df['Message'].apply(lambda s : len(s.split(' '))).describe\n",
    "messages_df.head()\n"
   ]
  },
  {
   "cell_type": "code",
   "execution_count": 119,
   "metadata": {},
   "outputs": [],
   "source": [
    "messages_df['Letter_Count'] = messages_df['Message'].apply(lambda s : len(s))\n",
    "messages_df['Word_Count'] = messages_df['Message'].apply(lambda s : len(s.split(' ')))"
   ]
  },
  {
   "cell_type": "markdown",
   "metadata": {},
   "source": [
    "# Data augmentation"
   ]
  },
  {
   "cell_type": "code",
   "execution_count": 120,
   "metadata": {},
   "outputs": [
    {
     "data": {
      "image/png": "[encoded data removed]",
      "text/plain": [
       "<Figure size 432x288 with 1 Axes>"
      ]
     },
     "metadata": {
      "needs_background": "light"
     },
     "output_type": "display_data"
    }
   ],
   "source": [
    "total_word_count_grouped_by_author = messages_df[['Author', 'Word_Count']].groupby('Author').sum()\n",
    "sorted_total_word_count_grouped_by_author = total_word_count_grouped_by_author.sort_values('Word_Count', ascending=False)\n",
    "top_10_sorted_total_word_count_grouped_by_author = sorted_total_word_count_grouped_by_author.head(10)\n",
    "top_10_sorted_total_word_count_grouped_by_author.plot.barh()\n",
    "plt.xlabel('Number of Words')\n",
    "plt.ylabel('Authors')\n",
    "plt.show()"
   ]
  },
  {
   "cell_type": "code",
   "execution_count": 121,
   "metadata": {},
   "outputs": [
    {
     "data": {
      "text/plain": [
       "Text(0, 0.5, 'Frequency')"
      ]
     },
     "execution_count": 121,
     "metadata": {},
     "output_type": "execute_result"
    },
    {
     "data": {
      "image/png": "[encoded data removed]",
      "text/plain": [
       "<Figure size 1080x144 with 1 Axes>"
      ]
     },
     "metadata": {
      "needs_background": "light"
     },
     "output_type": "display_data"
    }
   ],
   "source": [
    "plt.figure(figsize=(15, 2)) # To ensure that the bar plot fits in the output cell of a Jupyter notebook\n",
    "word_count_value_counts = messages_df['Word_Count'].value_counts()\n",
    "top_40_word_count_value_counts = word_count_value_counts.head(40)\n",
    "top_40_word_count_value_counts.plot.bar()\n",
    "plt.xlabel('Word Count')\n",
    "plt.ylabel('Frequency')"
   ]
  },
  {
   "cell_type": "code",
   "execution_count": 122,
   "metadata": {},
   "outputs": [
    {
     "data": {
      "text/plain": [
       "Text(0, 0.5, 'Authors')"
      ]
     },
     "execution_count": 122,
     "metadata": {},
     "output_type": "execute_result"
    },
    {
     "data": {
      "image/png": "[encoded data removed]",
      "text/plain": [
       "<Figure size 432x288 with 1 Axes>"
      ]
     },
     "metadata": {
      "needs_background": "light"
     },
     "output_type": "display_data"
    }
   ],
   "source": [
    "total_letter_count_grouped_by_author = messages_df[['Author', 'Letter_Count']].groupby('Author').sum()\n",
    "sorted_total_letter_count_grouped_by_author = total_letter_count_grouped_by_author.sort_values('Letter_Count', ascending=False)\n",
    "top_10_sorted_total_letter_count_grouped_by_author = sorted_total_letter_count_grouped_by_author.head(10)\n",
    "top_10_sorted_total_letter_count_grouped_by_author.plot.barh()\n",
    "plt.xlabel('Number of Letters')\n",
    "plt.ylabel('Authors')"
   ]
  },
  {
   "cell_type": "code",
   "execution_count": 123,
   "metadata": {},
   "outputs": [
    {
     "data": {
      "text/plain": [
       "Text(0, 0.5, 'Date')"
      ]
     },
     "execution_count": 123,
     "metadata": {},
     "output_type": "execute_result"
    },
    {
     "data": {
      "image/png": "[encoded data removed]",
      "text/plain": [
       "<Figure size 432x288 with 1 Axes>"
      ]
     },
     "metadata": {
      "needs_background": "light"
     },
     "output_type": "display_data"
    }
   ],
   "source": [
    "messages_df['Date'].value_counts().head(10).plot.barh() # Top 10 Dates on which the most number of messages were sent\n",
    "plt.xlabel('Number of Messages')\n",
    "plt.ylabel('Date')"
   ]
  },
  {
   "cell_type": "code",
   "execution_count": 124,
   "metadata": {},
   "outputs": [
    {
     "data": {
      "text/plain": [
       "Text(0, 0.5, 'Time')"
      ]
     },
     "execution_count": 124,
     "metadata": {},
     "output_type": "execute_result"
    },
    {
     "data": {
      "image/png": "[encoded data removed]",
      "text/plain": [
       "<Figure size 432x288 with 1 Axes>"
      ]
     },
     "metadata": {
      "needs_background": "light"
     },
     "output_type": "display_data"
    }
   ],
   "source": [
    "messages_df['Time'].value_counts().head(10).plot.barh() # Top 10 Times of the day at which the most number of messages were sent\n",
    "plt.xlabel('Number of messages')\n",
    "plt.ylabel('Time')"
   ]
  },
  {
   "cell_type": "code",
   "execution_count": 125,
   "metadata": {},
   "outputs": [],
   "source": [
    "messages_df['Hour'] = messages_df['Time'].apply(lambda x : x.split(':')[0]) # The first token of a value in the Time Column contains the hour (Eg., \"20\" in \"20:15\")"
   ]
  },
  {
   "cell_type": "code",
   "execution_count": 126,
   "metadata": {},
   "outputs": [
    {
     "data": {
      "text/plain": [
       "Text(0, 0.5, 'Hour of Day')"
      ]
     },
     "execution_count": 126,
     "metadata": {},
     "output_type": "execute_result"
    },
    {
     "data": {
      "image/png": "[encoded data removed]",
      "text/plain": [
       "<Figure size 432x288 with 1 Axes>"
      ]
     },
     "metadata": {
      "needs_background": "light"
     },
     "output_type": "display_data"
    }
   ],
   "source": [
    "messages_df['Hour'].value_counts().head(10).sort_index(ascending=False).plot.barh() # Top 10 Hours of the day during which the most number of messages were sent\n",
    "plt.xlabel('Number of messages')\n",
    "plt.ylabel('Hour of Day')"
   ]
  },
  {
   "cell_type": "code",
   "execution_count": null,
   "metadata": {},
   "outputs": [],
   "source": []
  }
 ],
 "metadata": {
  "kernelspec": {
   "display_name": "Python 3",
   "language": "python",
   "name": "python3"
  },
  "language_info": {
   "codemirror_mode": {
    "name": "ipython",
    "version": 3
   },
   "file_extension": ".py",
   "mimetype": "text/x-python",
   "name": "python",
   "nbconvert_exporter": "python",
   "pygments_lexer": "ipython3",
   "version": "3.8.3"
  }
 },
 "nbformat": 4,
 "nbformat_minor": 4
}
